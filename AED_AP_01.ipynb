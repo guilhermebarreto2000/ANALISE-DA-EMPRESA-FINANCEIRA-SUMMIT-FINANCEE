{
  "nbformat": 4,
  "nbformat_minor": 0,
  "metadata": {
    "colab": {
      "name": "AED_AP_01.ipynb",
      "provenance": [],
      "include_colab_link": true
    },
    "kernelspec": {
      "name": "python3",
      "display_name": "Python 3"
    }
  },
  "cells": [
    {
      "cell_type": "markdown",
      "metadata": {
        "id": "view-in-github",
        "colab_type": "text"
      },
      "source": [
        "<a href=\"https://colab.research.google.com/github/guilhermebarreto2000/ANALISE-DA-EMPRESA-FINANCEIRA-SUMMIT-FINANCEE/blob/main/AED_AP_01.ipynb\" target=\"_parent\"><img src=\"https://colab.research.google.com/assets/colab-badge.svg\" alt=\"Open In Colab\"/></a>"
      ]
    },
    {
      "cell_type": "markdown",
      "metadata": {
        "id": "nzDLATrpIcsZ"
      },
      "source": [
        "# **Análise Exploratória de Dados - AED** - **Aula Prática 01**"
      ]
    },
    {
      "cell_type": "markdown",
      "metadata": {
        "id": "JlbKs6jihvAy"
      },
      "source": [
        "> **Comandos e bibliotecas básicas**"
      ]
    },
    {
      "cell_type": "code",
      "metadata": {
        "id": "hCTIPTZ_7Mpr"
      },
      "source": [
        "import pandas as pd  # biblioteca com ferramentas para análise de dados/dataframes\n",
        "import numpy as np  # biblioteca com operações matemáticas"
      ],
      "execution_count": null,
      "outputs": []
    },
    {
      "cell_type": "code",
      "source": [
        "#Meu código\n",
        "\n",
        "import pandas as pd\n",
        "import numpy as np"
      ],
      "metadata": {
        "id": "hcVtMhr7Hjwo"
      },
      "execution_count": 1,
      "outputs": []
    },
    {
      "cell_type": "code",
      "metadata": {
        "id": "Oo92rnFuLui2"
      },
      "source": [
        "# Pesquisa Nacional por Amostra de Domicílios - PNAD (IGBE)\n",
        "df = pd.read_csv(\"https://raw.githubusercontent.com/dayanebravo/AED/main/pes_2012.csv\")  # ler dados no formato CSV"
      ],
      "execution_count": null,
      "outputs": []
    },
    {
      "cell_type": "code",
      "source": [
        "#Meu código\n",
        "\n",
        "df = pd.read_csv(r\"https://raw.githubusercontent.com/dayanebravo/AED/main/pes_2012.csv\")"
      ],
      "metadata": {
        "id": "V9rX9Bb2Hsgj"
      },
      "execution_count": 4,
      "outputs": []
    },
    {
      "cell_type": "code",
      "metadata": {
        "id": "vEDfMJxcMqm8"
      },
      "source": [
        "df.head()  #  exibe as primeiras linhas da tabela"
      ],
      "execution_count": null,
      "outputs": []
    },
    {
      "cell_type": "code",
      "source": [
        "#Meu código\n",
        "\n",
        "df.head()"
      ],
      "metadata": {
        "id": "m2BuSn-uIJaU",
        "outputId": "8228db8a-6f90-4880-b5b4-c5a031543a0f",
        "colab": {
          "base_uri": "https://localhost:8080/",
          "height": 206
        }
      },
      "execution_count": 6,
      "outputs": [
        {
          "output_type": "execute_result",
          "data": {
            "text/plain": [
              "   V0101        UF      V0302  V8005   V0404            V4803 V4718 V4720  \\\n",
              "0   2012  Rondônia  Masculino     48  Branca  15 anos ou mais  3000  3000   \n",
              "1   2012  Rondônia   Feminino     48  Branca  15 anos ou mais  3000  3000   \n",
              "2   2012  Rondônia   Feminino     23  Branca  15 anos ou mais  1100  1100   \n",
              "3   2012  Rondônia   Feminino     21  Branca          14 anos  1100  1100   \n",
              "4   2012  Rondônia   Feminino     54  Branca  15 anos ou mais   NaN   460   \n",
              "\n",
              "   V4729  \n",
              "0    232  \n",
              "1    232  \n",
              "2    232  \n",
              "3    232  \n",
              "4    232  "
            ],
            "text/html": [
              "\n",
              "  <div id=\"df-16fc6f7f-3c48-4e41-90e1-00079eb68b5e\" class=\"colab-df-container\">\n",
              "    <div>\n",
              "<style scoped>\n",
              "    .dataframe tbody tr th:only-of-type {\n",
              "        vertical-align: middle;\n",
              "    }\n",
              "\n",
              "    .dataframe tbody tr th {\n",
              "        vertical-align: top;\n",
              "    }\n",
              "\n",
              "    .dataframe thead th {\n",
              "        text-align: right;\n",
              "    }\n",
              "</style>\n",
              "<table border=\"1\" class=\"dataframe\">\n",
              "  <thead>\n",
              "    <tr style=\"text-align: right;\">\n",
              "      <th></th>\n",
              "      <th>V0101</th>\n",
              "      <th>UF</th>\n",
              "      <th>V0302</th>\n",
              "      <th>V8005</th>\n",
              "      <th>V0404</th>\n",
              "      <th>V4803</th>\n",
              "      <th>V4718</th>\n",
              "      <th>V4720</th>\n",
              "      <th>V4729</th>\n",
              "    </tr>\n",
              "  </thead>\n",
              "  <tbody>\n",
              "    <tr>\n",
              "      <th>0</th>\n",
              "      <td>2012</td>\n",
              "      <td>Rondônia</td>\n",
              "      <td>Masculino</td>\n",
              "      <td>48</td>\n",
              "      <td>Branca</td>\n",
              "      <td>15 anos ou mais</td>\n",
              "      <td>3000</td>\n",
              "      <td>3000</td>\n",
              "      <td>232</td>\n",
              "    </tr>\n",
              "    <tr>\n",
              "      <th>1</th>\n",
              "      <td>2012</td>\n",
              "      <td>Rondônia</td>\n",
              "      <td>Feminino</td>\n",
              "      <td>48</td>\n",
              "      <td>Branca</td>\n",
              "      <td>15 anos ou mais</td>\n",
              "      <td>3000</td>\n",
              "      <td>3000</td>\n",
              "      <td>232</td>\n",
              "    </tr>\n",
              "    <tr>\n",
              "      <th>2</th>\n",
              "      <td>2012</td>\n",
              "      <td>Rondônia</td>\n",
              "      <td>Feminino</td>\n",
              "      <td>23</td>\n",
              "      <td>Branca</td>\n",
              "      <td>15 anos ou mais</td>\n",
              "      <td>1100</td>\n",
              "      <td>1100</td>\n",
              "      <td>232</td>\n",
              "    </tr>\n",
              "    <tr>\n",
              "      <th>3</th>\n",
              "      <td>2012</td>\n",
              "      <td>Rondônia</td>\n",
              "      <td>Feminino</td>\n",
              "      <td>21</td>\n",
              "      <td>Branca</td>\n",
              "      <td>14 anos</td>\n",
              "      <td>1100</td>\n",
              "      <td>1100</td>\n",
              "      <td>232</td>\n",
              "    </tr>\n",
              "    <tr>\n",
              "      <th>4</th>\n",
              "      <td>2012</td>\n",
              "      <td>Rondônia</td>\n",
              "      <td>Feminino</td>\n",
              "      <td>54</td>\n",
              "      <td>Branca</td>\n",
              "      <td>15 anos ou mais</td>\n",
              "      <td>NaN</td>\n",
              "      <td>460</td>\n",
              "      <td>232</td>\n",
              "    </tr>\n",
              "  </tbody>\n",
              "</table>\n",
              "</div>\n",
              "    <div class=\"colab-df-buttons\">\n",
              "\n",
              "  <div class=\"colab-df-container\">\n",
              "    <button class=\"colab-df-convert\" onclick=\"convertToInteractive('df-16fc6f7f-3c48-4e41-90e1-00079eb68b5e')\"\n",
              "            title=\"Convert this dataframe to an interactive table.\"\n",
              "            style=\"display:none;\">\n",
              "\n",
              "  <svg xmlns=\"http://www.w3.org/2000/svg\" height=\"24px\" viewBox=\"0 -960 960 960\">\n",
              "    <path d=\"M120-120v-720h720v720H120Zm60-500h600v-160H180v160Zm220 220h160v-160H400v160Zm0 220h160v-160H400v160ZM180-400h160v-160H180v160Zm440 0h160v-160H620v160ZM180-180h160v-160H180v160Zm440 0h160v-160H620v160Z\"/>\n",
              "  </svg>\n",
              "    </button>\n",
              "\n",
              "  <style>\n",
              "    .colab-df-container {\n",
              "      display:flex;\n",
              "      gap: 12px;\n",
              "    }\n",
              "\n",
              "    .colab-df-convert {\n",
              "      background-color: #E8F0FE;\n",
              "      border: none;\n",
              "      border-radius: 50%;\n",
              "      cursor: pointer;\n",
              "      display: none;\n",
              "      fill: #1967D2;\n",
              "      height: 32px;\n",
              "      padding: 0 0 0 0;\n",
              "      width: 32px;\n",
              "    }\n",
              "\n",
              "    .colab-df-convert:hover {\n",
              "      background-color: #E2EBFA;\n",
              "      box-shadow: 0px 1px 2px rgba(60, 64, 67, 0.3), 0px 1px 3px 1px rgba(60, 64, 67, 0.15);\n",
              "      fill: #174EA6;\n",
              "    }\n",
              "\n",
              "    .colab-df-buttons div {\n",
              "      margin-bottom: 4px;\n",
              "    }\n",
              "\n",
              "    [theme=dark] .colab-df-convert {\n",
              "      background-color: #3B4455;\n",
              "      fill: #D2E3FC;\n",
              "    }\n",
              "\n",
              "    [theme=dark] .colab-df-convert:hover {\n",
              "      background-color: #434B5C;\n",
              "      box-shadow: 0px 1px 3px 1px rgba(0, 0, 0, 0.15);\n",
              "      filter: drop-shadow(0px 1px 2px rgba(0, 0, 0, 0.3));\n",
              "      fill: #FFFFFF;\n",
              "    }\n",
              "  </style>\n",
              "\n",
              "    <script>\n",
              "      const buttonEl =\n",
              "        document.querySelector('#df-16fc6f7f-3c48-4e41-90e1-00079eb68b5e button.colab-df-convert');\n",
              "      buttonEl.style.display =\n",
              "        google.colab.kernel.accessAllowed ? 'block' : 'none';\n",
              "\n",
              "      async function convertToInteractive(key) {\n",
              "        const element = document.querySelector('#df-16fc6f7f-3c48-4e41-90e1-00079eb68b5e');\n",
              "        const dataTable =\n",
              "          await google.colab.kernel.invokeFunction('convertToInteractive',\n",
              "                                                    [key], {});\n",
              "        if (!dataTable) return;\n",
              "\n",
              "        const docLinkHtml = 'Like what you see? Visit the ' +\n",
              "          '<a target=\"_blank\" href=https://colab.research.google.com/notebooks/data_table.ipynb>data table notebook</a>'\n",
              "          + ' to learn more about interactive tables.';\n",
              "        element.innerHTML = '';\n",
              "        dataTable['output_type'] = 'display_data';\n",
              "        await google.colab.output.renderOutput(dataTable, element);\n",
              "        const docLink = document.createElement('div');\n",
              "        docLink.innerHTML = docLinkHtml;\n",
              "        element.appendChild(docLink);\n",
              "      }\n",
              "    </script>\n",
              "  </div>\n",
              "\n",
              "\n",
              "    <div id=\"df-354ad787-6c12-4c5f-a536-c640a6599efe\">\n",
              "      <button class=\"colab-df-quickchart\" onclick=\"quickchart('df-354ad787-6c12-4c5f-a536-c640a6599efe')\"\n",
              "                title=\"Suggest charts\"\n",
              "                style=\"display:none;\">\n",
              "\n",
              "<svg xmlns=\"http://www.w3.org/2000/svg\" height=\"24px\"viewBox=\"0 0 24 24\"\n",
              "     width=\"24px\">\n",
              "    <g>\n",
              "        <path d=\"M19 3H5c-1.1 0-2 .9-2 2v14c0 1.1.9 2 2 2h14c1.1 0 2-.9 2-2V5c0-1.1-.9-2-2-2zM9 17H7v-7h2v7zm4 0h-2V7h2v10zm4 0h-2v-4h2v4z\"/>\n",
              "    </g>\n",
              "</svg>\n",
              "      </button>\n",
              "\n",
              "<style>\n",
              "  .colab-df-quickchart {\n",
              "      --bg-color: #E8F0FE;\n",
              "      --fill-color: #1967D2;\n",
              "      --hover-bg-color: #E2EBFA;\n",
              "      --hover-fill-color: #174EA6;\n",
              "      --disabled-fill-color: #AAA;\n",
              "      --disabled-bg-color: #DDD;\n",
              "  }\n",
              "\n",
              "  [theme=dark] .colab-df-quickchart {\n",
              "      --bg-color: #3B4455;\n",
              "      --fill-color: #D2E3FC;\n",
              "      --hover-bg-color: #434B5C;\n",
              "      --hover-fill-color: #FFFFFF;\n",
              "      --disabled-bg-color: #3B4455;\n",
              "      --disabled-fill-color: #666;\n",
              "  }\n",
              "\n",
              "  .colab-df-quickchart {\n",
              "    background-color: var(--bg-color);\n",
              "    border: none;\n",
              "    border-radius: 50%;\n",
              "    cursor: pointer;\n",
              "    display: none;\n",
              "    fill: var(--fill-color);\n",
              "    height: 32px;\n",
              "    padding: 0;\n",
              "    width: 32px;\n",
              "  }\n",
              "\n",
              "  .colab-df-quickchart:hover {\n",
              "    background-color: var(--hover-bg-color);\n",
              "    box-shadow: 0 1px 2px rgba(60, 64, 67, 0.3), 0 1px 3px 1px rgba(60, 64, 67, 0.15);\n",
              "    fill: var(--button-hover-fill-color);\n",
              "  }\n",
              "\n",
              "  .colab-df-quickchart-complete:disabled,\n",
              "  .colab-df-quickchart-complete:disabled:hover {\n",
              "    background-color: var(--disabled-bg-color);\n",
              "    fill: var(--disabled-fill-color);\n",
              "    box-shadow: none;\n",
              "  }\n",
              "\n",
              "  .colab-df-spinner {\n",
              "    border: 2px solid var(--fill-color);\n",
              "    border-color: transparent;\n",
              "    border-bottom-color: var(--fill-color);\n",
              "    animation:\n",
              "      spin 1s steps(1) infinite;\n",
              "  }\n",
              "\n",
              "  @keyframes spin {\n",
              "    0% {\n",
              "      border-color: transparent;\n",
              "      border-bottom-color: var(--fill-color);\n",
              "      border-left-color: var(--fill-color);\n",
              "    }\n",
              "    20% {\n",
              "      border-color: transparent;\n",
              "      border-left-color: var(--fill-color);\n",
              "      border-top-color: var(--fill-color);\n",
              "    }\n",
              "    30% {\n",
              "      border-color: transparent;\n",
              "      border-left-color: var(--fill-color);\n",
              "      border-top-color: var(--fill-color);\n",
              "      border-right-color: var(--fill-color);\n",
              "    }\n",
              "    40% {\n",
              "      border-color: transparent;\n",
              "      border-right-color: var(--fill-color);\n",
              "      border-top-color: var(--fill-color);\n",
              "    }\n",
              "    60% {\n",
              "      border-color: transparent;\n",
              "      border-right-color: var(--fill-color);\n",
              "    }\n",
              "    80% {\n",
              "      border-color: transparent;\n",
              "      border-right-color: var(--fill-color);\n",
              "      border-bottom-color: var(--fill-color);\n",
              "    }\n",
              "    90% {\n",
              "      border-color: transparent;\n",
              "      border-bottom-color: var(--fill-color);\n",
              "    }\n",
              "  }\n",
              "</style>\n",
              "\n",
              "      <script>\n",
              "        async function quickchart(key) {\n",
              "          const quickchartButtonEl =\n",
              "            document.querySelector('#' + key + ' button');\n",
              "          quickchartButtonEl.disabled = true;  // To prevent multiple clicks.\n",
              "          quickchartButtonEl.classList.add('colab-df-spinner');\n",
              "          try {\n",
              "            const charts = await google.colab.kernel.invokeFunction(\n",
              "                'suggestCharts', [key], {});\n",
              "          } catch (error) {\n",
              "            console.error('Error during call to suggestCharts:', error);\n",
              "          }\n",
              "          quickchartButtonEl.classList.remove('colab-df-spinner');\n",
              "          quickchartButtonEl.classList.add('colab-df-quickchart-complete');\n",
              "        }\n",
              "        (() => {\n",
              "          let quickchartButtonEl =\n",
              "            document.querySelector('#df-354ad787-6c12-4c5f-a536-c640a6599efe button');\n",
              "          quickchartButtonEl.style.display =\n",
              "            google.colab.kernel.accessAllowed ? 'block' : 'none';\n",
              "        })();\n",
              "      </script>\n",
              "    </div>\n",
              "\n",
              "    </div>\n",
              "  </div>\n"
            ],
            "application/vnd.google.colaboratory.intrinsic+json": {
              "type": "dataframe",
              "variable_name": "df"
            }
          },
          "metadata": {},
          "execution_count": 6
        }
      ]
    },
    {
      "cell_type": "code",
      "metadata": {
        "id": "7tYVTbr8ORgj"
      },
      "source": [
        "df.shape  # informa a dimensão da tabela (linhas, colunas)"
      ],
      "execution_count": null,
      "outputs": []
    },
    {
      "cell_type": "code",
      "source": [
        "#Meu código\n",
        "\n",
        "df.shape"
      ],
      "metadata": {
        "id": "ClYFVCatIilX",
        "outputId": "591152b4-9948-41ab-d543-39a92c488737",
        "colab": {
          "base_uri": "https://localhost:8080/"
        }
      },
      "execution_count": 7,
      "outputs": [
        {
          "output_type": "execute_result",
          "data": {
            "text/plain": [
              "(362451, 9)"
            ]
          },
          "metadata": {},
          "execution_count": 7
        }
      ]
    },
    {
      "cell_type": "code",
      "metadata": {
        "id": "K83glqKemt2z"
      },
      "source": [
        "df.info()  # informações gerais dos dados"
      ],
      "execution_count": null,
      "outputs": []
    },
    {
      "cell_type": "code",
      "metadata": {
        "id": "hywiL4uqRJ2H"
      },
      "source": [
        "df.dtypes  # informa os tipos de dados de cada coluna"
      ],
      "execution_count": null,
      "outputs": []
    },
    {
      "cell_type": "code",
      "metadata": {
        "id": "vCHrrYUxQdtA"
      },
      "source": [
        "df.V4718  #  acessar dados da coluna"
      ],
      "execution_count": null,
      "outputs": []
    },
    {
      "cell_type": "code",
      "metadata": {
        "id": "vbq5RRblOrDq"
      },
      "source": [
        "df[\"V4718\"]  #  acessar e ALTERAR dados da coluna"
      ],
      "execution_count": null,
      "outputs": []
    },
    {
      "cell_type": "code",
      "metadata": {
        "id": "a-W_tlNcmvgC"
      },
      "source": [
        "df.dropna(axis=\"columns\")  # remove colunas com ao menos um valor inválido"
      ],
      "execution_count": null,
      "outputs": []
    },
    {
      "cell_type": "code",
      "metadata": {
        "id": "XSJ6dVRTQb2J"
      },
      "source": [
        "df.dropna()  # remove linhas com ao menos um valor inválido - mas não altera o dataframe original"
      ],
      "execution_count": null,
      "outputs": []
    },
    {
      "cell_type": "code",
      "metadata": {
        "id": "KXMceBYgiGFO"
      },
      "source": [
        "ndf = df.dropna()  # criando um NOVO dataframe com as linhas inválidas removidas"
      ],
      "execution_count": null,
      "outputs": []
    },
    {
      "cell_type": "code",
      "metadata": {
        "id": "TDhMJ9czjNJ1"
      },
      "source": [
        "ndf.head()  #  exibe as primeiras linhas da tabela"
      ],
      "execution_count": null,
      "outputs": []
    },
    {
      "cell_type": "code",
      "metadata": {
        "id": "PGkAbDZMjj7u"
      },
      "source": [
        "ndf.dtypes  # informa os tipos de dados de cada coluna"
      ],
      "execution_count": null,
      "outputs": []
    },
    {
      "cell_type": "markdown",
      "metadata": {
        "id": "U8Q6b-7TkFk0"
      },
      "source": [
        "> Observar as colunas V4718 e V4720"
      ]
    },
    {
      "cell_type": "code",
      "metadata": {
        "id": "O2ihXmzPkSZG"
      },
      "source": [
        "df[\"V4718\"] = pd.to_numeric(df[\"V4718\"],errors=\"coerce\")  # transformar dados da coluna em float e substituir os erros por NaN\n",
        "df[\"V4720\"] = pd.to_numeric(df[\"V4720\"],errors=\"coerce\")"
      ],
      "execution_count": null,
      "outputs": []
    },
    {
      "cell_type": "code",
      "metadata": {
        "id": "4Fr_aGdQku5d"
      },
      "source": [
        "df.dtypes  # informa os tipos de dados de cada coluna"
      ],
      "execution_count": null,
      "outputs": []
    },
    {
      "cell_type": "markdown",
      "metadata": {
        "id": "RT-2p9seoYPA"
      },
      "source": [
        "# **Variáveis Qualitativas e Quantitativas**"
      ]
    },
    {
      "cell_type": "code",
      "metadata": {
        "id": "Q7bKJPuojp_8"
      },
      "source": [
        "df.select_dtypes(include=['object'])  # seleciona os valores qualitativos encontrados nos dados"
      ],
      "execution_count": null,
      "outputs": []
    },
    {
      "cell_type": "code",
      "metadata": {
        "id": "02iXPNRioHAx"
      },
      "source": [
        "df.select_dtypes(include=['number'])  # seleciona os valores quantitativos encontrados nos dados"
      ],
      "execution_count": null,
      "outputs": []
    },
    {
      "cell_type": "markdown",
      "metadata": {
        "id": "XZPsAI4coc8H"
      },
      "source": [
        "> **Valores Quantitativos: discretos ou contínuos**"
      ]
    },
    {
      "cell_type": "code",
      "metadata": {
        "id": "9fmJtbq8PI5W"
      },
      "source": [
        "print(type(df.V0101[1]))  # valor quantitativo discreto (finito) da coluna e posição indicada\n",
        "df.V0101[132]"
      ],
      "execution_count": null,
      "outputs": []
    },
    {
      "cell_type": "code",
      "metadata": {
        "id": "zxWSdPCCljvD"
      },
      "source": [
        "pdmedia = ndf.V8005.mean()   # valor quantitativo contínuo (não enumerável) - média das idades pela PANDAS\n",
        "print(\"A média é: \", pdmedia)\n",
        "type(pdmedia)  # tipo da variável calculada"
      ],
      "execution_count": null,
      "outputs": []
    },
    {
      "cell_type": "code",
      "metadata": {
        "id": "1mz3AwnOiXxo"
      },
      "source": [
        "npmedia = np.mean(ndf.V8005)   # valor quantitativo contínuo (não enumerável) - média das idades pela NUMPY\n",
        "print(\"A média é: \",npmedia)"
      ],
      "execution_count": null,
      "outputs": []
    },
    {
      "cell_type": "markdown",
      "metadata": {
        "id": "UxQAzotktH4q"
      },
      "source": [
        "\n",
        "> **Representação numérica**\n",
        "\n"
      ]
    },
    {
      "cell_type": "code",
      "metadata": {
        "id": "zRd6WLCCnzLW"
      },
      "source": [
        "print(\"%.2f\" % pdmedia)   # arredondamento 2 casas decimais"
      ],
      "execution_count": null,
      "outputs": []
    },
    {
      "cell_type": "code",
      "metadata": {
        "id": "wghQcCRApwRl"
      },
      "source": [
        "print(\"%.5f\" % pdmedia)   # arredondamento 5 casas decimais"
      ],
      "execution_count": null,
      "outputs": []
    },
    {
      "cell_type": "code",
      "metadata": {
        "id": "SUFpK55ermhE"
      },
      "source": [
        "print('{:e}'.format(pdmedia))   # notação científica"
      ],
      "execution_count": null,
      "outputs": []
    },
    {
      "cell_type": "code",
      "metadata": {
        "id": "TG7_ZHfdsLvM"
      },
      "source": [
        "print('{:.2e}'.format(pdmedia))   # notação científica com 2 casas decimais"
      ],
      "execution_count": null,
      "outputs": []
    },
    {
      "cell_type": "markdown",
      "metadata": {
        "id": "K_61KBdgswcb"
      },
      "source": [
        "# ***Frequência de dados***\n",
        "> ***Frequência Absoluta***"
      ]
    },
    {
      "cell_type": "code",
      "metadata": {
        "id": "h1nS3CQIuPzW"
      },
      "source": [
        "ndf.V0404.value_counts()   #  frequência qualitativa - características físicas"
      ],
      "execution_count": null,
      "outputs": []
    },
    {
      "cell_type": "code",
      "metadata": {
        "id": "GqvdCNINu7gP"
      },
      "source": [
        "ndf.V8005.value_counts()    # frequência quantitativa - idade"
      ],
      "execution_count": null,
      "outputs": []
    },
    {
      "cell_type": "markdown",
      "metadata": {
        "id": "12CPs1cfuI3p"
      },
      "source": [
        ">***Frequência Relativa***"
      ]
    },
    {
      "cell_type": "code",
      "metadata": {
        "id": "lJ5L30SBuQTw"
      },
      "source": [
        "print(\"número total de observações: \", len(ndf.V0404) )   #  número total de observações - linhas\n",
        "\n",
        "np.divide(ndf.V0404.value_counts(), len(ndf.V0404))  #  frequência relativa da coluna indicada - características físicas"
      ],
      "execution_count": null,
      "outputs": []
    },
    {
      "cell_type": "code",
      "metadata": {
        "id": "R-PT3cJzvICx"
      },
      "source": [
        "print(\"número total de observações: \", len(ndf.V8005))   #  número total de observações - linhas\n",
        "\n",
        "np.divide(ndf.V8005.value_counts() , len(ndf.V8005))  #  frequência relativa da coluna indicada - idade"
      ],
      "execution_count": null,
      "outputs": []
    },
    {
      "cell_type": "markdown",
      "metadata": {
        "id": "S377LcDUuXUR"
      },
      "source": [
        "## Próximas aulas...\n",
        "> **Gráficos de frequência**\n",
        "\n",
        "> **Tabela em Grupos**"
      ]
    },
    {
      "cell_type": "code",
      "metadata": {
        "id": "o5jjfUoRYqIh"
      },
      "source": [
        "ndf.groupby(['V0302','UF']).agg({'V8005': np.mean})  # Tabela agrupando: sexo / UF / idade média"
      ],
      "execution_count": null,
      "outputs": []
    }
  ]
}